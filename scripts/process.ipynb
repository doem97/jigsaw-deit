{
 "cells": [
  {
   "cell_type": "code",
   "execution_count": 17,
   "metadata": {},
   "outputs": [],
   "source": [
    "import pickle\n",
    "\n",
    "# Replace 'your_file.pkl' with the path to your .pkl file\n",
    "filename = \"../preds/jigsaw_base_p56_336_in1k_e10/train.pkl\"\n",
    "\n",
    "# Load the variable from the .pkl file\n",
    "with open(filename, \"rb\") as f:\n",
    "    combined_list = pickle.load(f)"
   ]
  },
  {
   "cell_type": "code",
   "execution_count": 18,
   "metadata": {},
   "outputs": [
    {
     "data": {
      "text/plain": [
       "2473"
      ]
     },
     "execution_count": 18,
     "metadata": {},
     "output_type": "execute_result"
    }
   ],
   "source": [
    "len(combined_list)"
   ]
  },
  {
   "cell_type": "code",
   "execution_count": 19,
   "metadata": {},
   "outputs": [],
   "source": [
    "# Function to divide an image into patches\n",
    "def divide_into_patches(image, patch_size):\n",
    "    patches = []\n",
    "    for i in range(0, image_size[0], patch_size[0]):\n",
    "        for j in range(0, image_size[1], patch_size[1]):\n",
    "            patch = image[i : i + patch_size[0], j : j + patch_size[1]]\n",
    "            patches.append(patch)\n",
    "    return patches\n",
    "\n",
    "\n",
    "# Function to restore the image based on the permutation\n",
    "def restore_image(patches, permutation):\n",
    "    restored_image = np.zeros((image_size[0], image_size[1], 3), dtype=np.uint8)\n",
    "    for index, permuted_index in enumerate(permutation):\n",
    "        row = index // patches_per_row\n",
    "        col = index % patches_per_row\n",
    "        restored_image[\n",
    "            row * patch_size[0] : (row + 1) * patch_size[0],\n",
    "            col * patch_size[1] : (col + 1) * patch_size[1],\n",
    "        ] = patches[permuted_index]\n",
    "    return restored_image"
   ]
  },
  {
   "cell_type": "code",
   "execution_count": null,
   "metadata": {},
   "outputs": [],
   "source": [
    "import os\n",
    "from pathlib import Path\n",
    "import cv2\n",
    "import numpy as np\n",
    "import matplotlib.pyplot as plt\n",
    "\n",
    "# Image parameters\n",
    "image_size = (336, 336)\n",
    "patch_size = (56, 56)\n",
    "patches_per_row = 6\n",
    "\n",
    "# Path to the folder containing images\n",
    "images_folder = Path(\"/workspace/data/study/cspuzzle/336/train\")\n",
    "\n",
    "# Get all image paths\n",
    "image_paths = [str(p) for p in images_folder.rglob(\"*.jpg\")]\n",
    "\n",
    "# Sort the image paths (if needed)\n",
    "image_paths = sorted(image_paths)\n",
    "\n",
    "# Check if the number of images matches the length of combined_list\n",
    "if len(image_paths) != len(combined_list):\n",
    "    print(\"Error: The number of images and the length of combined_list do not match.\")\n",
    "else:\n",
    "    for i, (image_path, combined_item) in enumerate(zip(image_paths, combined_list)):\n",
    "        if i < 20:\n",
    "            continue\n",
    "        if i >= 40:  # Show only the first 5 images\n",
    "            break\n",
    "\n",
    "        # Load the image\n",
    "        image = cv2.imread(image_path)\n",
    "        if image is None:\n",
    "            print(f\"Error: Failed to load image from {image_path}\")\n",
    "            continue\n",
    "        image = cv2.cvtColor(image, cv2.COLOR_BGR2RGB)\n",
    "\n",
    "        # Divide the image into patches\n",
    "        patches = divide_into_patches(image, patch_size)\n",
    "\n",
    "        # Get the permutation from combined_list\n",
    "        permutation = combined_item[0]\n",
    "\n",
    "        # Restore the image\n",
    "        restored_image = restore_image(patches, permutation)\n",
    "\n",
    "        # Show the images\n",
    "        plt.figure(figsize=(10, 5))\n",
    "\n",
    "        plt.subplot(1, 2, 1)\n",
    "        plt.imshow(image)\n",
    "        plt.title(\"Original Image\")\n",
    "\n",
    "        plt.subplot(1, 2, 2)\n",
    "        plt.imshow(restored_image)\n",
    "        plt.title(\"Restored Image\")\n",
    "\n",
    "        plt.show()\n",
    "        print(\n",
    "            f\"Image: {image_path}, Combined Item: {combined_item[1]}, Permutation: {permutation}\"\n",
    "        )"
   ]
  },
  {
   "cell_type": "code",
   "execution_count": 1,
   "metadata": {},
   "outputs": [
    {
     "name": "stdout",
     "output_type": "stream",
     "text": [
      "126\n"
     ]
    }
   ],
   "source": [
    "import math\n",
    "\n",
    "# Number of patches along one dimension\n",
    "patches_per_dim = 3\n",
    "\n",
    "# Total number of patches\n",
    "total_patches = patches_per_dim**2\n",
    "\n",
    "# Calculate number of possible cases for permutating one pair of patches\n",
    "num_cases = math.comb(total_patches, 4)\n",
    "\n",
    "print(num_cases)"
   ]
  },
  {
   "cell_type": "code",
   "execution_count": 29,
   "metadata": {},
   "outputs": [],
   "source": [
    "import random\n",
    "import numpy as np\n",
    "\n",
    "\n",
    "def generate_permutations(n, length):\n",
    "    permutations = set()\n",
    "    while len(permutations) < n:\n",
    "        permutation = random.sample(range(length), length)\n",
    "        permutations.add(tuple(permutation))\n",
    "    return permutations\n",
    "\n",
    "\n",
    "permutations = generate_permutations(3, 36)\n",
    "permutations = np.array(list(permutations), dtype=np.int32)\n",
    "np.save(\"perm6x6x3.npy\", permutations)"
   ]
  },
  {
   "cell_type": "code",
   "execution_count": 28,
   "metadata": {},
   "outputs": [
    {
     "data": {
      "text/plain": [
       "array([19, 23, 26,  2,  5, 28,  1,  0, 29, 34, 35, 16, 21, 24,  8, 22, 30,\n",
       "        3, 33, 11,  9,  6, 10, 20, 12, 13, 17, 15, 31, 27, 25,  4, 32, 18,\n",
       "       14,  7], dtype=int32)"
      ]
     },
     "execution_count": 28,
     "metadata": {},
     "output_type": "execute_result"
    }
   ],
   "source": [
    "permutations[0]"
   ]
  },
  {
   "cell_type": "code",
   "execution_count": 24,
   "metadata": {},
   "outputs": [],
   "source": [
    "perm6x6x500 = np.load(\"perm6x6x500.npy\")\n",
    "perm6x6x1000 = np.load(\"perm6x6x1000.npy\")"
   ]
  },
  {
   "cell_type": "code",
   "execution_count": 25,
   "metadata": {},
   "outputs": [
    {
     "name": "stdout",
     "output_type": "stream",
     "text": [
      "(500, 36) <class 'numpy.ndarray'>\n",
      "(1000, 36) <class 'numpy.ndarray'>\n"
     ]
    }
   ],
   "source": [
    "print(perm6x6x500.shape, type(perm6x6x500))\n",
    "print(perm6x6x1000.shape, type(perm6x6x1000))"
   ]
  },
  {
   "cell_type": "code",
   "execution_count": 1,
   "metadata": {},
   "outputs": [
    {
     "data": {
      "text/plain": [
       "array([[ 0,  1,  2, ..., 33,  3, 35],\n",
       "       [ 0,  1,  2, ..., 33, 34, 35],\n",
       "       [ 0,  1,  2, ..., 33, 34, 25],\n",
       "       ...,\n",
       "       [ 0,  1,  2, ..., 33, 34, 35],\n",
       "       [ 0, 27,  2, ..., 33, 34, 35],\n",
       "       [ 0,  1,  2, ..., 33, 34, 35]], dtype=int32)"
      ]
     },
     "execution_count": 1,
     "metadata": {},
     "output_type": "execute_result"
    }
   ],
   "source": [
    "import random\n",
    "import numpy as np\n",
    "\n",
    "\n",
    "def generate_permutations(n, length, k):\n",
    "    permutations = set()\n",
    "    base_sequence = list(range(length))\n",
    "\n",
    "    while len(permutations) < n:\n",
    "        indices_to_permute = random.sample(range(length), k)\n",
    "        permuted_part = random.sample(indices_to_permute, k)\n",
    "\n",
    "        permutation = base_sequence.copy()\n",
    "        for i, index in enumerate(indices_to_permute):\n",
    "            permutation[index] = base_sequence[permuted_part[i]]\n",
    "\n",
    "        permutations.add(tuple(permutation))\n",
    "\n",
    "    return permutations\n",
    "\n",
    "\n",
    "n = 50\n",
    "length = 36\n",
    "k = 6\n",
    "permutations = generate_permutations(n, length, k)\n",
    "permutations = np.array(list(permutations), dtype=np.int32)\n",
    "np.save(\"perm6x6x3.npy\", permutations)\n",
    "# permutations"
   ]
  },
  {
   "cell_type": "code",
   "execution_count": 1,
   "metadata": {},
   "outputs": [
    {
     "name": "stdout",
     "output_type": "stream",
     "text": [
      "Copied: ../outputs/in1k_jigsaw_small_patch56_336_e30_c500/log.txt -> ../logs/in1k_jigsaw_small_patch56_336_e30_c500/log.txt\n",
      "Copied: ../outputs/jigsaw_b_p56_336_in1k_v2_m0_10e/log.txt -> ../logs/jigsaw_b_p56_336_in1k_v2_m0_10e/log.txt\n",
      "Copied: ../outputs/jigsaw_b_p56_336_in1k_m3_20e/log.txt -> ../logs/jigsaw_b_p56_336_in1k_m3_20e/log.txt\n",
      "Copied: ../outputs/in1k_jigsaw_small_patch56_336_e30_cls50/log.txt -> ../logs/in1k_jigsaw_small_patch56_336_e30_cls50/log.txt\n",
      "Copied: ../outputs/in1k_jigsaw_tiny_patch56_336_e10_c50/log.txt -> ../logs/in1k_jigsaw_tiny_patch56_336_e10_c50/log.txt\n",
      "Copied: ../outputs/in1k_jigsaw_base_patch56_336_e10_c500/log.txt -> ../logs/in1k_jigsaw_base_patch56_336_e10_c500/log.txt\n",
      "Copied: ../outputs/in1k_jigsaw_base_patch56_336_e10_c1000/log.txt -> ../logs/in1k_jigsaw_base_patch56_336_e10_c1000/log.txt\n",
      "Copied: ../outputs/jigsaw_base_p56_336_in1k/log.txt -> ../logs/jigsaw_base_p56_336_in1k/log.txt\n",
      "Copied: ../outputs/in1k_jigsaw_base_patch56_336_e10_c50ftc1000/log.txt -> ../logs/in1k_jigsaw_base_patch56_336_e10_c50ftc1000/log.txt\n",
      "Copied: ../outputs/in1k_jigsaw_base_patch56_336_e10_c50/log.txt -> ../logs/in1k_jigsaw_base_patch56_336_e10_c50/log.txt\n",
      "Copied: ../outputs/in1k_jigsaw_small_patch56_336_e30_c1000frcl50/log.txt -> ../logs/in1k_jigsaw_small_patch56_336_e30_c1000frcl50/log.txt\n",
      "Copied: ../outputs/in1k_jigsaw_base_patch168_336_e10/log.txt -> ../logs/in1k_jigsaw_base_patch168_336_e10/log.txt\n",
      "Copied: ../outputs/in1k_jigsaw_small_patch56_336_e30_c1000/log.txt -> ../logs/in1k_jigsaw_small_patch56_336_e30_c1000/log.txt\n",
      "Copied: ../outputs/in1k_jigsaw_base_patch56_336_e10_c50ftc500_bs256/log.txt -> ../logs/in1k_jigsaw_base_patch56_336_e10_c50ftc500_bs256/log.txt\n",
      "Copied: ../outputs/in1k_jigsaw_tiny_patch168_336_e10/log.txt -> ../logs/in1k_jigsaw_tiny_patch168_336_e10/log.txt\n",
      "Copied: ../outputs/jigsaw_b_p56_336_in1k_m1_20e/log.txt -> ../logs/jigsaw_b_p56_336_in1k_m1_20e/log.txt\n",
      "Copied: ../outputs/in1k_jigsaw_base_patch56_336_e10_c50ftc500_bs512/log.txt -> ../logs/in1k_jigsaw_base_patch56_336_e10_c50ftc500_bs512/log.txt\n",
      "Copied: ../outputs/in1k_jigsaw_base_patch56_336_e10_c50ftc500_cls*/log.txt -> ../logs/in1k_jigsaw_base_patch56_336_e10_c50ftc500_cls*/log.txt\n",
      "Copied: ../outputs/in1k_jigsaw_base_patch56_336_e10_c50ftc1000_cls50/log.txt -> ../logs/in1k_jigsaw_base_patch56_336_e10_c50ftc1000_cls50/log.txt\n",
      "Copied: ../outputs/jigsaw_base_p56_336/log.txt -> ../logs/jigsaw_base_p56_336/log.txt\n",
      "Copied: ../outputs/in1k_jigsaw_base_patch56_336_e10_c50ftc500/log.txt -> ../logs/in1k_jigsaw_base_patch56_336_e10_c50ftc500/log.txt\n",
      "Copied: ../outputs/in1k_jigsaw_tiny_patch56_336_e10_c50ftc50_cls50/log.txt -> ../logs/in1k_jigsaw_tiny_patch56_336_e10_c50ftc50_cls50/log.txt\n",
      "Copied: ../outputs/jigsaw_r_b_p56_336_in1k_m0_10e/log.txt -> ../logs/jigsaw_r_b_p56_336_in1k_m0_10e/log.txt\n",
      "Copied: ../outputs/jigsar_b_p56_336_in1k_m0_10e/log.txt -> ../logs/jigsar_b_p56_336_in1k_m0_10e/log.txt\n",
      "Copied: ../outputs/jigsaw_base_patch16_224/log.txt -> ../logs/jigsaw_base_patch16_224/log.txt\n",
      "Copied: ../outputs/debug/log.txt -> ../logs/debug/log.txt\n",
      "Copied: ../outputs/jigsaw_t_p168_336_in1k_v2_m0_10e/log.txt -> ../logs/jigsaw_t_p168_336_in1k_v2_m0_10e/log.txt\n",
      "Copied: ../outputs/jigsaw_base_patch16_384/log.txt -> ../logs/jigsaw_base_patch16_384/log.txt\n",
      "Copied: ../outputs/in1k_jigsaw_base_patch56_336_e10_c50ftc1000_cls*/log.txt -> ../logs/in1k_jigsaw_base_patch56_336_e10_c50ftc1000_cls*/log.txt\n",
      "Copied: ../outputs/jigsaw_base_p56_336_in1k_e10/log.txt -> ../logs/jigsaw_base_p56_336_in1k_e10/log.txt\n"
     ]
    }
   ],
   "source": [
    "import os\n",
    "import shutil\n",
    "\n",
    "# Define the source and destination directories\n",
    "source_directory = \"../outputs\"\n",
    "destination_directory = \"../logs\"\n",
    "\n",
    "# Iterate through all subdirectories in the source directory\n",
    "for subdir, _, files in os.walk(source_directory):\n",
    "    if \"log.txt\" in files:\n",
    "        # Construct the source file path\n",
    "        source_file = os.path.join(subdir, \"log.txt\")\n",
    "\n",
    "        # Construct the destination file path\n",
    "        relative_subdir_path = os.path.relpath(subdir, source_directory)\n",
    "        destination_subdir = os.path.join(destination_directory, relative_subdir_path)\n",
    "        destination_file = os.path.join(destination_subdir, \"log.txt\")\n",
    "\n",
    "        # Create the destination subdirectory if it does not exist\n",
    "        os.makedirs(destination_subdir, exist_ok=True)\n",
    "\n",
    "        # Copy the file\n",
    "        shutil.copy2(source_file, destination_file)\n",
    "        print(f\"Copied: {source_file} -> {destination_file}\")"
   ]
  },
  {
   "cell_type": "code",
   "execution_count": null,
   "metadata": {},
   "outputs": [],
   "source": []
  }
 ],
 "metadata": {
  "kernelspec": {
   "display_name": "study",
   "language": "python",
   "name": "python3"
  },
  "language_info": {
   "codemirror_mode": {
    "name": "ipython",
    "version": 3
   },
   "file_extension": ".py",
   "mimetype": "text/x-python",
   "name": "python",
   "nbconvert_exporter": "python",
   "pygments_lexer": "ipython3",
   "version": "3.10.8"
  }
 },
 "nbformat": 4,
 "nbformat_minor": 2
}
